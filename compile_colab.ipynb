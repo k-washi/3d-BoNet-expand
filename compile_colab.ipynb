{
  "nbformat": 4,
  "nbformat_minor": 0,
  "metadata": {
    "colab": {
      "name": "compile_colab.ipynb",
      "provenance": [],
      "collapsed_sections": []
    },
    "kernelspec": {
      "name": "python3",
      "display_name": "Python 3"
    }
  },
  "cells": [
    {
      "cell_type": "code",
      "metadata": {
        "id": "UtA_q0Bz2ahv",
        "colab_type": "code",
        "colab": {}
      },
      "source": [
        "!rm -rf 3d-BoNet-expand"
      ],
      "execution_count": 0,
      "outputs": []
    },
    {
      "cell_type": "code",
      "metadata": {
        "id": "_XNEr6RZ2MYy",
        "colab_type": "code",
        "colab": {
          "base_uri": "https://localhost:8080/",
          "height": 136
        },
        "outputId": "85a37b37-ee8a-482b-ea33-3752eb134d8b"
      },
      "source": [
        "!git clone https://github.com/k-washi/3d-BoNet-expand.git"
      ],
      "execution_count": 82,
      "outputs": [
        {
          "output_type": "stream",
          "text": [
            "Cloning into '3d-BoNet-expand'...\n",
            "remote: Enumerating objects: 124, done.\u001b[K\n",
            "remote: Counting objects:   0% (1/124)\u001b[K\rremote: Counting objects:   1% (2/124)\u001b[K\rremote: Counting objects:   2% (3/124)\u001b[K\rremote: Counting objects:   3% (4/124)\u001b[K\rremote: Counting objects:   4% (5/124)\u001b[K\rremote: Counting objects:   5% (7/124)\u001b[K\rremote: Counting objects:   6% (8/124)\u001b[K\rremote: Counting objects:   7% (9/124)\u001b[K\rremote: Counting objects:   8% (10/124)\u001b[K\rremote: Counting objects:   9% (12/124)\u001b[K\rremote: Counting objects:  10% (13/124)\u001b[K\rremote: Counting objects:  11% (14/124)\u001b[K\rremote: Counting objects:  12% (15/124)\u001b[K\rremote: Counting objects:  13% (17/124)\u001b[K\rremote: Counting objects:  14% (18/124)\u001b[K\rremote: Counting objects:  15% (19/124)\u001b[K\rremote: Counting objects:  16% (20/124)\u001b[K\rremote: Counting objects:  17% (22/124)\u001b[K\rremote: Counting objects:  18% (23/124)\u001b[K\rremote: Counting objects:  19% (24/124)\u001b[K\rremote: Counting objects:  20% (25/124)\u001b[K\rremote: Counting objects:  21% (27/124)\u001b[K\rremote: Counting objects:  22% (28/124)\u001b[K\rremote: Counting objects:  23% (29/124)\u001b[K\rremote: Counting objects:  24% (30/124)\u001b[K\rremote: Counting objects:  25% (31/124)\u001b[K\rremote: Counting objects:  26% (33/124)\u001b[K\rremote: Counting objects:  27% (34/124)\u001b[K\rremote: Counting objects:  28% (35/124)\u001b[K\rremote: Counting objects:  29% (36/124)\u001b[K\rremote: Counting objects:  30% (38/124)\u001b[K\rremote: Counting objects:  31% (39/124)\u001b[K\rremote: Counting objects:  32% (40/124)\u001b[K\rremote: Counting objects:  33% (41/124)\u001b[K\rremote: Counting objects:  34% (43/124)\u001b[K\rremote: Counting objects:  35% (44/124)\u001b[K\rremote: Counting objects:  36% (45/124)\u001b[K\rremote: Counting objects:  37% (46/124)\u001b[K\rremote: Counting objects:  38% (48/124)\u001b[K\rremote: Counting objects:  39% (49/124)\u001b[K\rremote: Counting objects:  40% (50/124)\u001b[K\rremote: Counting objects:  41% (51/124)\u001b[K\rremote: Counting objects:  42% (53/124)\u001b[K\rremote: Counting objects:  43% (54/124)\u001b[K\rremote: Counting objects:  44% (55/124)\u001b[K\rremote: Counting objects:  45% (56/124)\u001b[K\rremote: Counting objects:  46% (58/124)\u001b[K\rremote: Counting objects:  47% (59/124)\u001b[K\rremote: Counting objects:  48% (60/124)\u001b[K\rremote: Counting objects:  49% (61/124)\u001b[K\rremote: Counting objects:  50% (62/124)\u001b[K\rremote: Counting objects:  51% (64/124)\u001b[K\rremote: Counting objects:  52% (65/124)\u001b[K\rremote: Counting objects:  53% (66/124)\u001b[K\rremote: Counting objects:  54% (67/124)\u001b[K\rremote: Counting objects:  55% (69/124)\u001b[K\rremote: Counting objects:  56% (70/124)\u001b[K\rremote: Counting objects:  57% (71/124)\u001b[K\rremote: Counting objects:  58% (72/124)\u001b[K\rremote: Counting objects:  59% (74/124)\u001b[K\rremote: Counting objects:  60% (75/124)\u001b[K\rremote: Counting objects:  61% (76/124)\u001b[K\rremote: Counting objects:  62% (77/124)\u001b[K\rremote: Counting objects:  63% (79/124)\u001b[K\rremote: Counting objects:  64% (80/124)\u001b[K\rremote: Counting objects:  65% (81/124)\u001b[K\rremote: Counting objects:  66% (82/124)\u001b[K\rremote: Counting objects:  67% (84/124)\u001b[K\rremote: Counting objects:  68% (85/124)\u001b[K\rremote: Counting objects:  69% (86/124)\u001b[K\rremote: Counting objects:  70% (87/124)\u001b[K\rremote: Counting objects:  71% (89/124)\u001b[K\rremote: Counting objects:  72% (90/124)\u001b[K\rremote: Counting objects:  73% (91/124)\u001b[K\rremote: Counting objects:  74% (92/124)\u001b[K\rremote: Counting objects:  75% (93/124)\u001b[K\rremote: Counting objects:  76% (95/124)\u001b[K\rremote: Counting objects:  77% (96/124)\u001b[K\rremote: Counting objects:  78% (97/124)\u001b[K\rremote: Counting objects:  79% (98/124)\u001b[K\rremote: Counting objects:  80% (100/124)\u001b[K\rremote: Counting objects:  81% (101/124)\u001b[K\rremote: Counting objects:  82% (102/124)\u001b[K\rremote: Counting objects:  83% (103/124)\u001b[K\rremote: Counting objects:  84% (105/124)\u001b[K\rremote: Counting objects:  85% (106/124)\u001b[K\rremote: Counting objects:  86% (107/124)\u001b[K\rremote: Counting objects:  87% (108/124)\u001b[K\rremote: Counting objects:  88% (110/124)\u001b[K\rremote: Counting objects:  89% (111/124)\u001b[K\rremote: Counting objects:  90% (112/124)\u001b[K\rremote: Counting objects:  91% (113/124)\u001b[K\rremote: Counting objects:  92% (115/124)\u001b[K\rremote: Counting objects:  93% (116/124)\u001b[K\rremote: Counting objects:  94% (117/124)\u001b[K\rremote: Counting objects:  95% (118/124)\u001b[K\rremote: Counting objects:  96% (120/124)\u001b[K\rremote: Counting objects:  97% (121/124)\u001b[K\rremote: Counting objects:  98% (122/124)\u001b[K\rremote: Counting objects:  99% (123/124)\u001b[K\rremote: Counting objects: 100% (124/124)\u001b[K\rremote: Counting objects: 100% (124/124), done.\u001b[K\n",
            "remote: Compressing objects:   1% (1/72)\u001b[K\rremote: Compressing objects:   2% (2/72)\u001b[K\rremote: Compressing objects:   4% (3/72)\u001b[K\rremote: Compressing objects:   5% (4/72)\u001b[K\rremote: Compressing objects:   6% (5/72)\u001b[K\rremote: Compressing objects:   8% (6/72)\u001b[K\rremote: Compressing objects:   9% (7/72)\u001b[K\rremote: Compressing objects:  11% (8/72)\u001b[K\rremote: Compressing objects:  12% (9/72)\u001b[K\rremote: Compressing objects:  13% (10/72)\u001b[K\rremote: Compressing objects:  15% (11/72)\u001b[K\rremote: Compressing objects:  16% (12/72)\u001b[K\rremote: Compressing objects:  18% (13/72)\u001b[K\rremote: Compressing objects:  19% (14/72)\u001b[K\rremote: Compressing objects:  20% (15/72)\u001b[K\rremote: Compressing objects:  22% (16/72)\u001b[K\rremote: Compressing objects:  23% (17/72)\u001b[K\rremote: Compressing objects:  25% (18/72)\u001b[K\rremote: Compressing objects:  26% (19/72)\u001b[K\rremote: Compressing objects:  27% (20/72)\u001b[K\rremote: Compressing objects:  29% (21/72)\u001b[K\rremote: Compressing objects:  30% (22/72)\u001b[K\rremote: Compressing objects:  31% (23/72)\u001b[K\rremote: Compressing objects:  33% (24/72)\u001b[K\rremote: Compressing objects:  34% (25/72)\u001b[K\rremote: Compressing objects:  36% (26/72)\u001b[K\rremote: Compressing objects:  37% (27/72)\u001b[K\rremote: Compressing objects:  38% (28/72)\u001b[K\rremote: Compressing objects:  40% (29/72)\u001b[K\rremote: Compressing objects:  41% (30/72)\u001b[K\rremote: Compressing objects:  43% (31/72)\u001b[K\rremote: Compressing objects:  44% (32/72)\u001b[K\rremote: Compressing objects:  45% (33/72)\u001b[K\rremote: Compressing objects:  47% (34/72)\u001b[K\rremote: Compressing objects:  48% (35/72)\u001b[K\rremote: Compressing objects:  50% (36/72)\u001b[K\rremote: Compressing objects:  51% (37/72)\u001b[K\rremote: Compressing objects:  52% (38/72)\u001b[K\rremote: Compressing objects:  54% (39/72)\u001b[K\rremote: Compressing objects:  55% (40/72)\u001b[K\rremote: Compressing objects:  56% (41/72)\u001b[K\rremote: Compressing objects:  58% (42/72)\u001b[K\rremote: Compressing objects:  59% (43/72)\u001b[K\rremote: Compressing objects:  61% (44/72)\u001b[K\rremote: Compressing objects:  62% (45/72)\u001b[K\rremote: Compressing objects:  63% (46/72)\u001b[K\rremote: Compressing objects:  65% (47/72)\u001b[K\rremote: Compressing objects:  66% (48/72)\u001b[K\rremote: Compressing objects:  68% (49/72)\u001b[K\rremote: Compressing objects:  69% (50/72)\u001b[K\rremote: Compressing objects:  70% (51/72)\u001b[K\rremote: Compressing objects:  72% (52/72)\u001b[K\rremote: Compressing objects:  73% (53/72)\u001b[K\rremote: Compressing objects:  75% (54/72)\u001b[K\rremote: Compressing objects:  76% (55/72)\u001b[K\rremote: Compressing objects:  77% (56/72)\u001b[K\rremote: Compressing objects:  79% (57/72)\u001b[K\rremote: Compressing objects:  80% (58/72)\u001b[K\rremote: Compressing objects:  81% (59/72)\u001b[K\rremote: Compressing objects:  83% (60/72)\u001b[K\rremote: Compressing objects:  84% (61/72)\u001b[K\rremote: Compressing objects:  86% (62/72)\u001b[K\rremote: Compressing objects:  87% (63/72)\u001b[K\rremote: Compressing objects:  88% (64/72)\u001b[K\rremote: Compressing objects:  90% (65/72)\u001b[K\rremote: Compressing objects:  91% (66/72)\u001b[K\rremote: Compressing objects:  93% (67/72)\u001b[K\rremote: Compressing objects:  94% (68/72)\u001b[K\rremote: Compressing objects:  95% (69/72)\u001b[K\rremote: Compressing objects:  97% (70/72)\u001b[K\rremote: Compressing objects:  98% (71/72)\u001b[K\rremote: Compressing objects: 100% (72/72)\u001b[K\rremote: Compressing objects: 100% (72/72), done.\u001b[K\n",
            "Receiving objects:   0% (1/124)   \rReceiving objects:   1% (2/124)   \rReceiving objects:   2% (3/124)   \rReceiving objects:   3% (4/124)   \rReceiving objects:   4% (5/124)   \rReceiving objects:   5% (7/124)   \rReceiving objects:   6% (8/124)   \rReceiving objects:   7% (9/124)   \rReceiving objects:   8% (10/124)   \rReceiving objects:   9% (12/124)   \rReceiving objects:  10% (13/124)   \rReceiving objects:  11% (14/124)   \rReceiving objects:  12% (15/124)   \rReceiving objects:  13% (17/124)   \rReceiving objects:  14% (18/124)   \rReceiving objects:  15% (19/124)   \rReceiving objects:  16% (20/124)   \rReceiving objects:  17% (22/124)   \rReceiving objects:  18% (23/124)   \rReceiving objects:  19% (24/124)   \rReceiving objects:  20% (25/124)   \rReceiving objects:  21% (27/124)   \rReceiving objects:  22% (28/124)   \rReceiving objects:  23% (29/124)   \rReceiving objects:  24% (30/124)   \rReceiving objects:  25% (31/124)   \rReceiving objects:  26% (33/124)   \rReceiving objects:  27% (34/124)   \rReceiving objects:  28% (35/124)   \rReceiving objects:  29% (36/124)   \rReceiving objects:  30% (38/124)   \rReceiving objects:  31% (39/124)   \rReceiving objects:  32% (40/124)   \rReceiving objects:  33% (41/124)   \rReceiving objects:  34% (43/124)   \rReceiving objects:  35% (44/124)   \rReceiving objects:  36% (45/124)   \rReceiving objects:  37% (46/124)   \rReceiving objects:  38% (48/124)   \rReceiving objects:  39% (49/124)   \rReceiving objects:  40% (50/124)   \rReceiving objects:  41% (51/124)   \rReceiving objects:  42% (53/124)   \rReceiving objects:  43% (54/124)   \rReceiving objects:  44% (55/124)   \rReceiving objects:  45% (56/124)   \rReceiving objects:  46% (58/124)   \rReceiving objects:  47% (59/124)   \rReceiving objects:  48% (60/124)   \rReceiving objects:  49% (61/124)   \rReceiving objects:  50% (62/124)   \rReceiving objects:  51% (64/124)   \rReceiving objects:  52% (65/124)   \rReceiving objects:  53% (66/124)   \rReceiving objects:  54% (67/124)   \rReceiving objects:  55% (69/124)   \rReceiving objects:  56% (70/124)   \rReceiving objects:  57% (71/124)   \rReceiving objects:  58% (72/124)   \rReceiving objects:  59% (74/124)   \rremote: Total 124 (delta 65), reused 104 (delta 49), pack-reused 0\u001b[K\n",
            "Receiving objects:  60% (75/124)   \rReceiving objects:  61% (76/124)   \rReceiving objects:  62% (77/124)   \rReceiving objects:  63% (79/124)   \rReceiving objects:  64% (80/124)   \rReceiving objects:  65% (81/124)   \rReceiving objects:  66% (82/124)   \rReceiving objects:  67% (84/124)   \rReceiving objects:  68% (85/124)   \rReceiving objects:  69% (86/124)   \rReceiving objects:  70% (87/124)   \rReceiving objects:  71% (89/124)   \rReceiving objects:  72% (90/124)   \rReceiving objects:  73% (91/124)   \rReceiving objects:  74% (92/124)   \rReceiving objects:  75% (93/124)   \rReceiving objects:  76% (95/124)   \rReceiving objects:  77% (96/124)   \rReceiving objects:  78% (97/124)   \rReceiving objects:  79% (98/124)   \rReceiving objects:  80% (100/124)   \rReceiving objects:  81% (101/124)   \rReceiving objects:  82% (102/124)   \rReceiving objects:  83% (103/124)   \rReceiving objects:  84% (105/124)   \rReceiving objects:  85% (106/124)   \rReceiving objects:  86% (107/124)   \rReceiving objects:  87% (108/124)   \rReceiving objects:  88% (110/124)   \rReceiving objects:  89% (111/124)   \rReceiving objects:  90% (112/124)   \rReceiving objects:  91% (113/124)   \rReceiving objects:  92% (115/124)   \rReceiving objects:  93% (116/124)   \rReceiving objects:  94% (117/124)   \rReceiving objects:  95% (118/124)   \rReceiving objects:  96% (120/124)   \rReceiving objects:  97% (121/124)   \rReceiving objects:  98% (122/124)   \rReceiving objects:  99% (123/124)   \rReceiving objects: 100% (124/124)   \rReceiving objects: 100% (124/124), 56.26 KiB | 8.04 MiB/s, done.\n",
            "Resolving deltas:   0% (0/65)   \rResolving deltas:  24% (16/65)   \rResolving deltas:  26% (17/65)   \rResolving deltas:  27% (18/65)   \rResolving deltas:  29% (19/65)   \rResolving deltas:  30% (20/65)   \rResolving deltas:  32% (21/65)   \rResolving deltas:  33% (22/65)   \rResolving deltas:  44% (29/65)   \rResolving deltas:  46% (30/65)   \rResolving deltas:  52% (34/65)   \rResolving deltas:  56% (37/65)   \rResolving deltas:  64% (42/65)   \rResolving deltas:  66% (43/65)   \rResolving deltas:  72% (47/65)   \rResolving deltas:  73% (48/65)   \rResolving deltas:  75% (49/65)   \rResolving deltas:  76% (50/65)   \rResolving deltas:  78% (51/65)   \rResolving deltas:  80% (52/65)   \rResolving deltas:  84% (55/65)   \rResolving deltas:  86% (56/65)   \rResolving deltas:  89% (58/65)   \rResolving deltas:  96% (63/65)   \rResolving deltas:  98% (64/65)   \rResolving deltas: 100% (65/65)   \rResolving deltas: 100% (65/65), done.\n"
          ],
          "name": "stdout"
        }
      ]
    },
    {
      "cell_type": "code",
      "metadata": {
        "id": "sVwwXlxs-qKY",
        "colab_type": "code",
        "colab": {}
      },
      "source": [
        "import sys\n",
        "sys.path.append('/content/3d-BoNet-expand/')"
      ],
      "execution_count": 0,
      "outputs": []
    },
    {
      "cell_type": "code",
      "metadata": {
        "id": "Gf5TwIzvB0ud",
        "colab_type": "code",
        "colab": {}
      },
      "source": [
        "import tf_ops.cu_compile as cu_comp"
      ],
      "execution_count": 0,
      "outputs": []
    },
    {
      "cell_type": "code",
      "metadata": {
        "id": "D_e8SL41Eb93",
        "colab_type": "code",
        "colab": {
          "base_uri": "https://localhost:8080/",
          "height": 71
        },
        "outputId": "689ffdf9-c2a3-4218-e19c-028e25002a18"
      },
      "source": [
        "cu_comp.nvcc_proc_call(gcolab=True)"
      ],
      "execution_count": 87,
      "outputs": [
        {
          "output_type": "stream",
          "text": [
            "!/usr/local/cuda-10.1/bin/nvcc /content/3d-BoNet-expand/tf_ops/../tf_ops/grouping/tf_grouping_g.cu -o /content/3d-BoNet-expand/tf_ops/../tf_ops/grouping/tf_grouping_g.cu.o -c -O2 -DGOOGLE_CUDA=1 -x cu -Xcompiler -fPIC\n",
            "!/usr/local/cuda-10.1/bin/nvcc /content/3d-BoNet-expand/tf_ops/../tf_ops/sampling/tf_sampling_g.cu -o /content/3d-BoNet-expand/tf_ops/../tf_ops/sampling/tf_sampling_g.cu.o -c -O2 -DGOOGLE_CUDA=1 -x cu -Xcompiler -fPIC\n"
          ],
          "name": "stdout"
        }
      ]
    },
    {
      "cell_type": "code",
      "metadata": {
        "id": "r_XwjcojEjoO",
        "colab_type": "code",
        "colab": {}
      },
      "source": [
        "!/usr/local/cuda-10.1/bin/nvcc /content/3d-BoNet-expand/tf_ops/../tf_ops/grouping/tf_grouping_g.cu -o /content/3d-BoNet-expand/tf_ops/../tf_ops/grouping/tf_grouping_g.cu.o -c -O2 -DGOOGLE_CUDA=1 -x cu -Xcompiler -fPIC\n",
        "!/usr/local/cuda-10.1/bin/nvcc /content/3d-BoNet-expand/tf_ops/../tf_ops/sampling/tf_sampling_g.cu -o /content/3d-BoNet-expand/tf_ops/../tf_ops/sampling/tf_sampling_g.cu.o -c -O2 -DGOOGLE_CUDA=1 -x cu -Xcompiler -fPIC"
      ],
      "execution_count": 0,
      "outputs": []
    },
    {
      "cell_type": "code",
      "metadata": {
        "id": "nI8GJTu7Euje",
        "colab_type": "code",
        "colab": {
          "base_uri": "https://localhost:8080/",
          "height": 88
        },
        "outputId": "35760169-4310-4d57-f79a-ee4ffb48ad28"
      },
      "source": [
        "cu_comp.cpp_proc_call(gcolab=True)"
      ],
      "execution_count": 88,
      "outputs": [
        {
          "output_type": "stream",
          "text": [
            "!g++ -std=c++11 /content/3d-BoNet-expand/tf_ops/../tf_ops/grouping/tf_grouping.cpp /content/3d-BoNet-expand/tf_ops/../tf_ops/grouping/tf_grouping_g.cu.o -o /content/3d-BoNet-expand/tf_ops/../tf_ops/grouping/tf_grouping_so.so -shared -fPIC -I/usr/local/lib/python3.6/dist-packages/tensorflow_core/include -D_GLIBCXX_USE_CXX11_ABI=0 -I /usr/local/cuda-10.1/include -L/usr/local/lib/python3.6/dist-packages/tensorflow_core -l:libtensorflow_framework.so.2 -lcudart -L /usr/local/cuda-10.1/lib64/ -O2\n",
            "!g++ -std=c++11 /content/3d-BoNet-expand/tf_ops/../tf_ops/sampling/tf_sampling.cpp /content/3d-BoNet-expand/tf_ops/../tf_ops/sampling/tf_sampling_g.cu.o -o /content/3d-BoNet-expand/tf_ops/../tf_ops/sampling/tf_sampling_so.so -shared -fPIC -I/usr/local/lib/python3.6/dist-packages/tensorflow_core/include -D_GLIBCXX_USE_CXX11_ABI=0 -I /usr/local/cuda-10.1/include -L/usr/local/lib/python3.6/dist-packages/tensorflow_core -l:libtensorflow_framework.so.2 -lcudart -L /usr/local/cuda-10.1/lib64/ -O2\n",
            "!g++ -std=c++11 /content/3d-BoNet-expand/tf_ops/../tf_ops/interpolation/tf_interpolate.cpp -o /content/3d-BoNet-expand/tf_ops/../tf_ops/interpolation/tf_interpolate_so.so -shared -fPIC -I/usr/local/lib/python3.6/dist-packages/tensorflow_core/include -D_GLIBCXX_USE_CXX11_ABI=0 -I /usr/local/cuda-10.1/include -L/usr/local/lib/python3.6/dist-packages/tensorflow_core -l:libtensorflow_framework.so.2 -lcudart -L /usr/local/cuda-10.1/lib64/ -O2\n"
          ],
          "name": "stdout"
        }
      ]
    },
    {
      "cell_type": "code",
      "metadata": {
        "id": "q3DfXkc9E0E3",
        "colab_type": "code",
        "colab": {}
      },
      "source": [
        "!g++ -std=c++11 /content/3d-BoNet-expand/tf_ops/../tf_ops/grouping/tf_grouping.cpp /content/3d-BoNet-expand/tf_ops/../tf_ops/grouping/tf_grouping_g.cu.o -o /content/3d-BoNet-expand/tf_ops/../tf_ops/grouping/tf_grouping_so.so -shared -fPIC -I/usr/local/lib/python3.6/dist-packages/tensorflow_core/include -D_GLIBCXX_USE_CXX11_ABI=0 -I /usr/local/cuda-10.1/include -L/usr/local/lib/python3.6/dist-packages/tensorflow_core -l:libtensorflow_framework.so.2 -lcudart -L /usr/local/cuda-10.1/lib64/ -O2\n",
        "!g++ -std=c++11 /content/3d-BoNet-expand/tf_ops/../tf_ops/sampling/tf_sampling.cpp /content/3d-BoNet-expand/tf_ops/../tf_ops/sampling/tf_sampling_g.cu.o -o /content/3d-BoNet-expand/tf_ops/../tf_ops/sampling/tf_sampling_so.so -shared -fPIC -I/usr/local/lib/python3.6/dist-packages/tensorflow_core/include -D_GLIBCXX_USE_CXX11_ABI=0 -I /usr/local/cuda-10.1/include -L/usr/local/lib/python3.6/dist-packages/tensorflow_core -l:libtensorflow_framework.so.2 -lcudart -L /usr/local/cuda-10.1/lib64/ -O2\n",
        "!g++ -std=c++11 /content/3d-BoNet-expand/tf_ops/../tf_ops/interpolation/tf_interpolate.cpp -o /content/3d-BoNet-expand/tf_ops/../tf_ops/interpolation/tf_interpolate_so.so -shared -fPIC -I/usr/local/lib/python3.6/dist-packages/tensorflow_core/include -D_GLIBCXX_USE_CXX11_ABI=0 -I /usr/local/cuda-10.1/include -L/usr/local/lib/python3.6/dist-packages/tensorflow_core -l:libtensorflow_framework.so.2 -lcudart -L /usr/local/cuda-10.1/lib64/ -O2"
      ],
      "execution_count": 0,
      "outputs": []
    }
  ]
}